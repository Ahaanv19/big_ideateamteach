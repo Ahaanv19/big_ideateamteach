{
 "cells": [
  {
   "cell_type": "raw",
   "metadata": {
    "vscode": {
     "languageId": "raw"
    }
   },
   "source": [
    "---\n",
    "layout: post\n",
    "title: Copyright\n",
    "description: Lesson 5\n",
    "permalink: /5.5.5/\n",
    "toc: false\n",
    "comments: true\n",
    "author: Arnav Mittal\n",
    "---"
   ]
  },
  {
   "cell_type": "markdown",
   "metadata": {},
   "source": [
    "# Copyright"
   ]
  },
  {
   "cell_type": "markdown",
   "metadata": {},
   "source": [
    "> There are two types of rights under copyright:\n",
    "    > - Economic Rights: rights to financial benefits from the use of a work\n",
    "    > - Moral rights: non-financial rights, but still important, such as the right to claim authorship or the right to prevent harmful changes\n"
   ]
  },
  {
   "cell_type": "markdown",
   "metadata": {},
   "source": [
    "*Copyright laws have existed since the 18th century, but since the digital age, many new challenges have risen regarding copyrights.*"
   ]
  },
  {
   "cell_type": "markdown",
   "metadata": {},
   "source": [
    "**It is important to consider copyright when:**\n",
    " - *using content from the internet*\n",
    " - *reposting content from the internet*\n",
    "\n",
    ">**Just because a piece of art or an image can be easily found on the internet does not necessarily mean that it is free to use, especially for financial gain!**\n",
    "    "
   ]
  },
  {
   "cell_type": "markdown",
   "metadata": {},
   "source": [
    "### Basic Tips to prevent copyright infringement\n",
    "\n",
    "- Check the copyright license on all online content before use - some pieces of content require the creator's permission to be used\n",
    "- Cite any material you are using that you did not create\n",
    "\n",
    "**If you use someone else's content without permission / citation, there can be consequences such as a fine or an order to remove the content. If you in any way claimed that the content was yours, you can be found guilty of plagiarism.**"
   ]
  },
  {
   "cell_type": "markdown",
   "metadata": {},
   "source": [
    "### Other Steps \n",
    "\n",
    "- **Understand Fair Use:** Fair use allows limited use of copyrighted material without permission from the rights holders for purposes such as criticism, comment, news reporting, teaching, scholarship, or research. However, the boundaries of fair use can be complex and vary by jurisdiction.\n",
    "- **Use Public Domain Content:** Content in the public domain is free to use without permission. This includes works whose copyright has expired, works created by the U.S. government, and works explicitly placed in the public domain by their creators.\n",
    "- **Look for Creative Commons Licenses:** Creative Commons licenses allow creators to specify how others can use their work. Some licenses allow for free use with proper attribution, while others may have additional restrictions.\n",
    "- **Create Your Own Content:** Whenever possible, create your own images, videos, and text. This ensures that you have full control over the content and eliminates the risk of copyright infringement.\n",
    "- **Use Stock Images and Videos:** Many websites offer stock images and videos that are free to use or available for purchase. Be sure to read and follow the licensing agreements for these resources.\n",
    "- **Seek Permission:** If you are unsure whether you can use a piece of content, seek permission from the copyright holder. This can often be done by contacting the creator directly or through a licensing agency.\n",
    "- **Educate Yourself and Others:** Stay informed about copyright laws and educate others who may be using your content or collaborating with you. Understanding the rules can help prevent unintentional infringement.\n"
   ]
  },
  {
   "cell_type": "markdown",
   "metadata": {},
   "source": [
    "### How Could You Obtain a Copyright for Your Work?\n",
    "\n",
    "Follow these steps:\n",
    "\n",
    "1. **Create an Original Work:** Copyright protection is automatically granted to original works of authorship as soon as they are fixed in a tangible medium of expression. This means you do not need to register your work to have copyright protection.\n",
    "\n",
    "2. **Register Your Work (Optional):** While registration is not required, it provides legal benefits. To register your work:\n",
    "    - Visit the copyright office website of your country (e.g., the U.S. Copyright Office).\n",
    "    - Complete the online application form.\n",
    "    - Pay the required fee.\n",
    "    - Submit a copy of your work.\n",
    "\n",
    "3. **Understand the Scope of Copyright:** Copyright protects the expression of ideas, not the ideas themselves. It covers literary works, music, art, films, and more, but does not protect facts, systems, or methods of operation.\n",
    "\n",
    "4. **Use Copyright Notices:** Although not mandatory, including a copyright notice (e.g., © [Year] [Your Name]) on your work can serve as a reminder of your rights and deter unauthorized use."
   ]
  },
  {
   "cell_type": "markdown",
   "metadata": {},
   "source": [
    "Look here for more information:\n",
    "\n",
    "https://www.copyright.gov/help/faq/faq-register.html "
   ]
  },
  {
   "cell_type": "markdown",
   "metadata": {},
   "source": [
    "### Creative Commons\n",
    "\n",
    "> A public copyright license used by creators to give others the right to use their work"
   ]
  },
  {
   "cell_type": "markdown",
   "metadata": {
    "vscode": {
     "languageId": "raw"
    }
   },
   "source": [
    "### Creative Commons - In Depth\n",
    "\n",
    "Creative Commons (CC) is a non-profit organization that provides free licenses and tools to enable creators to share their work with others while retaining some rights. These licenses allow creators to specify how their work can be used, shared, and adapted by others.\n",
    "\n",
    "#### Types of Creative Commons Licenses:\n",
    "1. **CC BY (Attribution):** Allows others to distribute, remix, adapt, and build upon the work, even commercially, as long as they credit the creator.\n",
    "2. **CC BY-SA (Attribution-ShareAlike):** Similar to CC BY, but requires that derivative works be licensed under the same terms.\n",
    "3. **CC BY-ND (Attribution-NoDerivs):** Allows redistribution, commercial and non-commercial, as long as the work is unchanged and credited to the creator.\n",
    "4. **CC BY-NC (Attribution-NonCommercial):** Allows others to remix, adapt, and build upon the work non-commercially, with attribution.\n",
    "5. **CC BY-NC-SA (Attribution-NonCommercial-ShareAlike):** Non-commercial use is allowed, and derivative works must be licensed under the same terms, with attribution.\n",
    "6. **CC BY-NC-ND (Attribution-NonCommercial-NoDerivs):** The most restrictive license, allowing only downloading and sharing with attribution, but no modifications or commercial use.\n",
    "\n",
    "#### Benefits of Creative Commons:\n",
    "- **Flexibility:** Creators can choose the level of freedom they want to grant to others.\n",
    "- **Global Reach:** CC licenses are recognized internationally.\n",
    "- **Encourages Collaboration:** Facilitates sharing and collaboration while respecting the rights of the creator.\n",
    "\n",
    "#### How to Use Creative Commons:\n",
    "- **For Creators:** Choose a license that fits your needs and apply it to your work. You can use the Creative Commons license chooser tool to help you decide.\n",
    "- **For Users:** Check the license terms before using a CC-licensed work. Always provide proper attribution and follow the specified conditions.\n",
    "\n",
    "For more information, visit the official Creative Commons website: https://creativecommons.org/"
   ]
  },
  {
   "cell_type": "markdown",
   "metadata": {},
   "source": [
    "<img src=\"{{site.baseurl}}/images/creativecommons.png\" alt=\"img\">"
   ]
  }
 ],
 "metadata": {
  "kernelspec": {
   "display_name": ".venv",
   "language": "python",
   "name": "python3"
  },
  "language_info": {
   "codemirror_mode": {
    "name": "ipython",
    "version": 3
   },
   "file_extension": ".py",
   "mimetype": "text/x-python",
   "name": "python",
   "nbconvert_exporter": "python",
   "pygments_lexer": "ipython3",
   "version": "3.12.3"
  }
 },
 "nbformat": 4,
 "nbformat_minor": 2
}
