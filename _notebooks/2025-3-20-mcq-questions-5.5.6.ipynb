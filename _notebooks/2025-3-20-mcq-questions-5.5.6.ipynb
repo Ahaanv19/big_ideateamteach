{
 "cells": [
  {
   "cell_type": "raw",
   "metadata": {
    "vscode": {
     "languageId": "raw"
    }
   },
   "source": [
    "---\n",
    "layout: post\n",
    "title: Retry the MCQ questions with your new knowledge\n",
    "permalink: /5.5.6/\n",
    "toc: false\n",
    "comments: true\n",
    "author: Arnav Mittal\n",
    "---"
   ]
  },
  {
   "cell_type": "markdown",
   "metadata": {},
   "source": [
    "# MCQ Questions Related to Our Lesson"
   ]
  },
  {
   "cell_type": "markdown",
   "metadata": {},
   "source": [
    "### 2020\n",
    "\n",
    "Questions: 31, 51, 59\n",
    "\n",
    "### 2018\n",
    "\n",
    "Questions: 16, 35"
   ]
  },
  {
   "cell_type": "markdown",
   "metadata": {},
   "source": [
    "### 2020 Questions\n",
    "\n",
    "#### 31: A student purchases a single-user license of a copyrighted application and wants other students to be able to use it at the same time. Under which of the following conditions is it considered acceptable for the student to share the application?\n",
    "\n",
    "A: When the application is shared only with students at the same school\n",
    "\n",
    "B: When the application is shared on a peer-to-peer network\n",
    "\n",
    "C: When the student gets permission from the copyright owner of the application\n",
    "\n",
    "D: When the student makes a copy of the application for another student to use only once\n",
    "\n",
    "#### 51: Which of the following best describes the impact of Creative Commons?\n",
    "\n",
    "A: Creative Commons gives creators of digital content the ability to indicate how their works can be legally used and distributed, enabling broad access to digital information.\n",
    "\n",
    "B: Creative Commons gives Internet users the right to legally use and distribute any previously copyrighted work, enabling broad access to digital information.\n",
    "\n",
    "C: Create Commons provides lossless transmission of messages, enabling reliable distribution of digital information.\n",
    "\n",
    "D: Creative Commons provides private transmission of messages, enabling secure distribution of digital information.\n",
    "\n",
    "#### 59: Which of the following is NOT an advandage of using open-source software?\n",
    "\n",
    "A: Open-source software is generally free or lower in cost than commercially available software.\n",
    "\n",
    "B: The availability of source code makes it possible to customize open-source software to a user’s individual needs.\n",
    "\n",
    "C: The original developer of open-source software provides free or low-cost support for users installing and running the software.\n",
    "\n",
    "D: Unlike commercial software, which can become obsolete when the company that created it goes out of business, open-source software can be updated without the involvement of the original programmers."
   ]
  },
  {
   "cell_type": "markdown",
   "metadata": {},
   "source": [
    "> Correct Answers: C, A, C"
   ]
  },
  {
   "cell_type": "markdown",
   "metadata": {
    "vscode": {
     "languageId": "raw"
    }
   },
   "source": [
    "### 2018 Questions\n",
    "\n",
    "#### 16: A user reads reviews of a popular artist’s new album and then downloads the album from the Web site of a licensed online music seller. Which of the following is LEAST likely to be a consequence of this action?\n",
    "\n",
    "A: Advertisements for the artist’s other albums will be displayed when the user visits a different Web site.\n",
    "\n",
    "B: Album reviews from other people who live nearby will be displayed to the user.\n",
    "\n",
    "C: Similar artists will be recommended to the user based on the user’s download selection.\n",
    "\n",
    "D: The user will be in violation of the Digital Millennium Copyright Act (DMCA).\n",
    "\n",
    "#### 35: A musician is creating a song using audio samples. Which of the following actions will minimize the risk of a copyright violation when creating sample-based music?\n",
    "\n",
    "A: Using samples found on popular music-streaming sites\n",
    "\n",
    "B: Using samples found on peer-to-peer networks\n",
    "\n",
    "C: Using samples from nondigital sound sources (vinyl records, tapes, etc.)\n",
    "\n",
    "D: Using samples published with a no-rights-reserved Creative Commons license"
   ]
  },
  {
   "cell_type": "markdown",
   "metadata": {},
   "source": [
    "> Correct Answers: D, D"
   ]
  }
 ],
 "metadata": {
  "kernelspec": {
   "display_name": ".venv",
   "language": "python",
   "name": "python3"
  },
  "language_info": {
   "codemirror_mode": {
    "name": "ipython",
    "version": 3
   },
   "file_extension": ".py",
   "mimetype": "text/x-python",
   "name": "python",
   "nbconvert_exporter": "python",
   "pygments_lexer": "ipython3",
   "version": "3.12.3"
  }
 },
 "nbformat": 4,
 "nbformat_minor": 2
}
