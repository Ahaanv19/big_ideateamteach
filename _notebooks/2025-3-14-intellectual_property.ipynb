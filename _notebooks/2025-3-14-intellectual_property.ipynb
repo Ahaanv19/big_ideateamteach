{
 "cells": [
  {
   "cell_type": "raw",
   "metadata": {
    "vscode": {
     "languageId": "raw"
    }
   },
   "source": [
    "---\n",
    "layout: post\n",
    "title: Intellectual Property\n",
    "description: Lesson 1\n",
    "permalink: /5.5.1/\n",
    "toc: false\n",
    "comments: true\n",
    "author: Ahaan Vaidyanathan\n",
    "---"
   ]
  },
  {
   "cell_type": "markdown",
   "metadata": {},
   "source": [
    "# Intellectual Property"
   ]
  }
 ],
 "metadata": {
  "language_info": {
   "name": "python"
  }
 },
 "nbformat": 4,
 "nbformat_minor": 2
}
