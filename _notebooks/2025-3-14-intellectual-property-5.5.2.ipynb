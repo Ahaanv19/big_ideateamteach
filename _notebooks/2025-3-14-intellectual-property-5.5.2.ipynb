{
 "cells": [
  {
   "cell_type": "raw",
   "metadata": {
    "vscode": {
     "languageId": "raw"
    }
   },
   "source": [
    "---\n",
    "layout: post\n",
    "title: Intellectual Property\n",
    "description: Lesson 2\n",
    "permalink: /5.5.2/\n",
    "toc: false\n",
    "comments: true\n",
    "author: Arnav Mittal\n",
    "---"
   ]
  },
  {
   "cell_type": "markdown",
   "metadata": {},
   "source": [
    "# Intellectual Property\n",
    "\n",
    "> Defined by the World Intellectual Property Organization as \"creations of the mind\"\n",
    "\n",
    "Examples:\n",
    "- Inventions\n",
    "- Literary / Artistic Works\n",
    "- Designs\n",
    "- Symbols\n",
    "- Names\n",
    "- Images Used in Commerce"
   ]
  },
  {
   "cell_type": "markdown",
   "metadata": {},
   "source": [
    "Any material that is created on a computer (such as an image, digital art, or writing) is the **intellectual property of the creator who made it**. \n",
    "\n",
    "When you make material for hire, you sign away your rights to intellectual property - the organization you work for owns the intellectual property rights."
   ]
  },
  {
   "cell_type": "markdown",
   "metadata": {},
   "source": [
    "Currently, there are many challenges to intellectual property rights becuase intellectual property can be easily accessed and distributed across the internet - making it **extremely** difficult for creators to control access to their works."
   ]
  },
  {
   "cell_type": "markdown",
   "metadata": {},
   "source": [
    "> Because it is so easy to access and distribute intellectual property on the internet, creators struggle to maintain control on their works which can lead to unauthorized *use*, *distribution*, and *modification* of the original work, all **without the consent / knowledge of the creator**.\n",
    "\n",
    "However, there are some measures that can be taken to avoid this unauthorized use of creator's works, such as:\n",
    " - **Digital Rights Management:** *Technologies that control the use of digital content / devices after an initial sale*\n",
    " - **Watermarking:** *Embedding information into digital content that identifies the creator / owner*\n",
    " - **Licensing Agreements:** *Legal contracts made to specify how a work can be used by others*"
   ]
  },
  {
   "cell_type": "markdown",
   "metadata": {},
   "source": [
    "Even with these preventive measures, the issue of intellectual property is still complex and ongoing, and it is important to learn about how you can prevent the misuse of your work and to ensure that you aren't misusing another person's work."
   ]
  },
  {
   "cell_type": "markdown",
   "metadata": {},
   "source": [
    "### Protections to Specific Types of Intellectual Property\n",
    "\n",
    "1. **Copyrights**: Protects literary and artistic works, such as books, music, and films. Copyright gives the creator exclusive rights to reproduce, distribute, perform, display, or license the work, and to create derivative works.\n",
    "\n",
    "2. **Patents**: Protects new inventions and gives the inventor exclusive rights to use, make, sell, and distribute the invention for a certain period of time, usually 20 years from the filing date.\n",
    "\n",
    "3. **Trademarks**: Protects symbols, names, and slogans used to identify goods and services. Trademarks help consumers distinguish between different products and services in the market.\n",
    "\n",
    "4. **Trade Secrets**: Protects confidential business information that provides a competitive edge. Trade secrets can include formulas, practices, processes, designs, instruments, or patterns."
   ]
  },
  {
   "cell_type": "markdown",
   "metadata": {},
   "source": [
    "<img src=\"{{site.baseurl}}/images/intellectualproperty.jpg\" alt=\"img\">"
   ]
  },
  {
   "cell_type": "markdown",
   "metadata": {},
   "source": [
    "### Examples of Intellectual Property\n",
    "\n",
    " - **Patents:** *Inventions or processes that provide a new way of doing something*\n",
    " - **Trademarks:** *Logos, symbols, or brand names that distinguish goods or services*\n",
    " - **Copyrights:** *Artistic works like books, music, and films.*\n",
    " - **Trade Secrets:** *Confidential business information like formulas or practices*"
   ]
  },
  {
   "cell_type": "markdown",
   "metadata": {},
   "source": [
    "<img src=\"{{site.baseurl}}/images/intellectualproperty.jpg\" alt=\"img\">"
   ]
  },
  {
   "cell_type": "markdown",
   "metadata": {},
   "source": [
    "### Challenges to Intellectual Property Rights\n",
    "\n",
    "In the digital age, the amount of challenges to intellectual property rights have heavily increased due to how easy it is to access and distribute intellectual property on the internet. Because it only takes a few clicks to copy a book or picture, creators find it extremely difficult to keep control over their works."
   ]
  },
  {
   "cell_type": "markdown",
   "metadata": {},
   "source": [
    "### Methods to Prevent Intellectual Property Rights Violations\n",
    "\n",
    " - **Register Your Intellectual Property:** *Ensure that your patents, trademarks, and copyrights are officially registered to establish legal ownership*\n",
    "\n",
    " - **Use Watermarks:** *Add watermarks to digital content like images, videos, or documents to discourage unauthorized use*\n",
    "\n",
    " - **License Agreements:** *Clearly define terms of use through licensing agreements to control how your intellectual property is used by others*\n",
    "\n",
    " - **Monitor and Enforce Rights:** *Regularly monitor the internet and marketplaces for unauthorized use of your intellectual property and take legal action if necessary*\n",
    "\n",
    " - **Educate Others:** *Raise awareness about intellectual property rights and the consequences of violations to promote ethical behavior*\n",
    "\n",
    " - **Use Technology:** *Implement digital rights management (DRM) tools to restrict access and copying of your digital content*"
   ]
  },
  {
   "cell_type": "markdown",
   "metadata": {},
   "source": [
    "### Fair Use and Public Domain\n",
    "\n",
    "Not all uses of intellectual property require permission. Two key concepts that allow limited use of protected works are fair use and the public domain.\n",
    "\n",
    "**Fair Use**: This legal doctrine allows limited use of copyrighted material without the owner's permission under specific circumstances. Common examples include:\n",
    "\n",
    " - **Educational use** *(teaching, research, or scholarship)*\n",
    " - **Commentary and criticism** *(news reporting, reviews)*\n",
    " - **Parody** *(transformative works that mock the original)*\n",
    " - **Limited reproduction for personal or nonprofit purposes**\n",
    " - **Fair use is determined by factors such as the purpose of use, the nature of the work, the amount used, and its impact on the market value.**\n",
    "\n",
    "**Public Domain**: Works in the public domain are not protected by intellectual property laws and can be freely used by anyone. This can happen when:\n",
    "\n",
    "**Copyright expires** *(e.g., many classic books and music pieces)*\n",
    "**The creator explicitly dedicates the work to the public domain**\n",
    "**The work is not eligible for copyright** *(e.g., government documents in some countries)*"
   ]
  },
  {
   "cell_type": "markdown",
   "metadata": {},
   "source": [
    "### Protecting Intellectual Property and its Importance\n",
    "\n",
    "Protecting intellectual property is crucial for fostering innovation and creativity. It ensures that creators and inventors can benefit from their work, providing them with the incentive to continue developing new ideas. Without proper protection, individuals and businesses may face financial losses and a lack of recognition for their contributions.\n",
    "\n",
    "In addition, protecting intellectual property helps maintain fair competition in the market by preventing unauthorized use or reproduction of original works. It also promotes economic growth by encouraging investment in research and development, ultimately benefiting society as a whole."
   ]
  },
  {
   "cell_type": "markdown",
   "metadata": {},
   "source": [
    "### Popcorn Hack\n",
    "*Can you define the 4 types of intellectual property? Write down what you can remember in a notebook.*"
   ]
  },
  {
   "cell_type": "markdown",
   "metadata": {},
   "source": [
    "## MC Sample Question \n",
    "\n",
    "Which of the following actions best helps a content creator prevent intellectual property rights violations when sharing digital content online?\n",
    "\n",
    "-  A. Releasing content under an open-source license without restrictions\n",
    "- B Adding watermarks and using digital rights management (DRM) tools\n",
    "- C. Ignoring unauthorized use of their content to encourage wider distribution\n",
    "-  D. Keeping all content offline and never sharing it on the internet\n",
    "\n",
    "Correct Answer: B"
   ]
  },
  {
   "cell_type": "markdown",
   "metadata": {},
   "source": [
    "> <a href=\"{{site.baseurl}}/5.5.3/\">Next</a>"
   ]
  }
 ],
 "metadata": {
  "kernelspec": {
   "display_name": ".venv",
   "language": "python",
   "name": "python3"
  },
  "language_info": {
   "codemirror_mode": {
    "name": "ipython",
    "version": 3
   },
   "file_extension": ".py",
   "mimetype": "text/x-python",
   "name": "python",
   "nbconvert_exporter": "python",
   "pygments_lexer": "ipython3",
   "version": "3.12.3"
  }
 },
 "nbformat": 4,
 "nbformat_minor": 2
}
