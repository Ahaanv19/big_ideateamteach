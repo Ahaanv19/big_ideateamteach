{
 "cells": [
  {
   "cell_type": "raw",
   "metadata": {
    "vscode": {
     "languageId": "raw"
    }
   },
   "source": [
    "---\n",
    "layout: post\n",
    "title: Big Idea 5 Legal and Ethical Concerns Work Cited \n",
    "description: Work Cited\n",
    "permalink: /5.5.7/\n",
    "toc: false\n",
    "comments: true\n",
    "author: Ahaan Vaidyanathan, Arnav Mittal, Weston Gardener \n",
    "---"
   ]
  },
  {
   "cell_type": "markdown",
   "metadata": {},
   "source": [
    "# Work Cited "
   ]
  },
  {
   "cell_type": "markdown",
   "metadata": {},
   "source": [
    "https://library.fiveable.me/ap-comp-sci-p/unit-5/legal-ethical-concerns/study-guide/dAf2KQxLsqwN3aEvajq0"
   ]
  },
  {
   "cell_type": "markdown",
   "metadata": {},
   "source": [
    "https://libguides.gwu.edu/opentextbooks/creative_commons"
   ]
  },
  {
   "cell_type": "markdown",
   "metadata": {},
   "source": [
    "https://www.google.com/url?sa=i&url=https%3A%2F%2Fwww.youtube.com%2Fwatch%3Fv%3DpK6DKHbJB9Q%26pp%3D0gcJCfcAhR29_xXO&psig=AOvVaw1eGH6nQ_DZ3eK3k_xUlNsG&ust=1743520408870000&source=images&cd=vfe&opi=89978449&ved=0CBQQjRxqFwoTCKCX3-rNtIwDFQAAAAAdAAAAABAE "
   ]
  }
 ],
 "metadata": {
  "language_info": {
   "name": "python"
  }
 },
 "nbformat": 4,
 "nbformat_minor": 2
}
