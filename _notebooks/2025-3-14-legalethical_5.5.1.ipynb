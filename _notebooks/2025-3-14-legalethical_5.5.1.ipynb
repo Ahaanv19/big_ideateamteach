{
 "cells": [
  {
   "cell_type": "markdown",
   "metadata": {},
   "source": [
    "---\n",
    "layout: post\n",
    "title: Big Idea 5 Legal and Ethical Concerns Lesson 1\n",
    "description: Lesson 1\n",
    "permalink: /5.5.1/\n",
    "toc: false\n",
    "comments: true\n",
    "author: Ahaan Vaidyanathan\n",
    "---"
   ]
  },
  {
   "cell_type": "markdown",
   "metadata": {},
   "source": [
    "# Intellectual Property "
   ]
  },
  {
   "cell_type": "markdown",
   "metadata": {},
   "source": [
    "Intellectual Property is defined by the World Intellectual Property Organization (WIPO) as \"creations of the mind, such as inventions; literary and artistic works; designs; and symbols, names, and images used in commerce.\" \n",
    "\n",
    "Material created on a computer (ex: an image, a piece of digital art, a piece of writing) is the intellectual property of the creator who made it. Sometimes, creators sign away their rights to their intellectual property, such as when a work is made for hire. In that case, the organization the creator made a contract with owns the intellectual property rights.\n",
    "\n",
    "In the digital age, challenges to intellectual property rights are more powerful than ever before. This is because it's very easy to access and distribute intellectual property found on the internet. Oftentimes, making a copy of a digital picture or book only takes a few button clicks. Because it's so easy to make copies, content creators often find it very, very difficult to control access to their works. \n",
    "\n",
    "Protecting intellectual property, at its best, helps foster innovation. It makes sure that content creators get credit and/or can financially benefit from their hard work. \n",
    "\n",
    "One of the ways intellectual property is protected is through copyright.\n",
    "\n"
   ]
  }
 ],
 "metadata": {
  "language_info": {
   "name": "python"
  }
 },
 "nbformat": 4,
 "nbformat_minor": 2
}
