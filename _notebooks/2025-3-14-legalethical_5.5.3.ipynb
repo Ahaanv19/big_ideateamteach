{
 "cells": [
  {
   "cell_type": "markdown",
   "metadata": {},
   "source": [
    "---\n",
    "layout: post\n",
    "title: Big Idea 5 Legal and Ethical Concerns Lesson 3\n",
    "description: Lesson 3\n",
    "permalink: /5.5.3/\n",
    "toc: false\n",
    "comments: true\n",
    "author: Ahaan Vaidyanathan\n",
    "---"
   ]
  },
  {
   "cell_type": "markdown",
   "metadata": {},
   "source": [
    "# Plagiarism"
   ]
  },
  {
   "cell_type": "markdown",
   "metadata": {},
   "source": [
    "\n",
    "Plagiarism is when you take the content of someone else and claim it as your own. The most common type of plagiarism students hear about is the plagiarism of written ideas and/or phrases. It's possible to accidentally plagiarise by simply forgetting to cite the original source of an idea or phrase. \n",
    "\n",
    "Plagiarism can have serious consequences, especially in the world of academia. It can get students expelled and see the careers of professors destroyed. Furthermore, there could be legal consequences as well. \n",
    "\n",
    "It's not difficult in the age of image searches and Turnitin.com to be caught plagiarising or violating copyright. It can also be incredibly disheartening for content creators to see their hard work taken without permission or credit.\n",
    "\n",
    "\n",
    "\n"
   ]
  },
  {
   "cell_type": "markdown",
   "metadata": {},
   "source": []
  }
 ],
 "metadata": {
  "language_info": {
   "name": "python"
  }
 },
 "nbformat": 4,
 "nbformat_minor": 2
}
