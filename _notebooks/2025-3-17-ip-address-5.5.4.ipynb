{
 "cells": [
  {
   "cell_type": "raw",
   "metadata": {
    "vscode": {
     "languageId": "raw"
    }
   },
   "source": [
    "---\n",
    "layout: post\n",
    "title: Big Idea 5 Legal and Ethical Concerns Lesson 4\n",
    "description: Lesson 4\n",
    "permalink: /5.5.4/\n",
    "toc: false\n",
    "comments: true\n",
    "author: Ahaan Vaidyanathan\n",
    "---"
   ]
  },
  {
   "cell_type": "markdown",
   "metadata": {},
   "source": [
    "# Legal Ways to Use The IP of Others\n",
    "So, what's an aspiring slide-show creator or aesthetic post-maker to do? Fortunately, the internet offers free material for people to use. Furthermore, there are ways to use the IP of others without violating copyright law.\n",
    "\n",
    "- Creative Commons is a public copyright license that a creator uses when they want to give others the right to use their work. Many Wikipedia images, for example, fall under a Creative Commons license. Creative Commons provides six levels of licensing that you can read about here!\n",
    "\n",
    "- Fair Use is an exception to copyright law that allows the use of copyrighted material without permission for limited purposes, such as educational or news-reporting. It can be very difficult to determine what is and isn't Fair Use, so don't use it as a cure-all!\n",
    "\n",
    "# Open sourcing vs. Open access\n",
    "- Open sourcing, as briefly discussed in Big Idea 1, allows for work to be freely shared, distributed, and modified. Open sourcing is usually mentioned in the context of software.\n",
    "\n",
    "- Open access, on the other hand, refers to research available to the general public that's free of many restrictions. For example, some academic journals are open-access or have open-access sections. Works that are under the umbrella of open access are often free of copyright use restrictions, but it's important to verify that this is the case with each work."
   ]
  },
  {
   "cell_type": "markdown",
   "metadata": {},
   "source": [
    "## Popcorn Hack \n",
    "\n",
    "- Define a Creative Common License \n",
    "- What are exceptions to the copyright law"
   ]
  },
  {
   "cell_type": "markdown",
   "metadata": {},
   "source": [
    "Systems like Creative Commons, Open sourcing, and Open access allow a great deal of intellectual work to be shared and used widely, thereby lowering intellectual barriers.\n",
    "\n",
    "# Other Legal and Ethical Concerns\n",
    "- There are many other legal and ethical concerns besides those related to copyright and IP. This is because fundamentally, computing innovations have the potential to do harm to people or groups of people.\n",
    "\n",
    "## Here are just a few further examples:\n",
    "\n",
    "- Streaming software allows you to watch your favorite movies and TV shows anytime, anywhere. Illegal streaming software, on the other hand, can violate copyright law and deprive creators of much-needed revenue. This software can also spread viruses and bugs. (For more about viruses, check out 5.6 Safe Computing!)\n",
    "\n",
    "- Biased algorithms can misrepresent or exclude people, as seen in 5.3 Computing Bias.\n",
    "\n",
    "- Some computing innovations use data that comes from the continuous monitoring of user activities. An example would be a step-tracker or screen-time tracker on your phone, which only works because it's constantly recording what you do. This process raises concerns about privacy and personal data use. (For more, check out 5.6 Safe Computing.)\n",
    "\n",
    "- The digital divide itself also raises ethical concerns, for reasons covered in 5.2 Digital Divide.\n",
    "\n",
    "Today, computing innovations play a massive role in society and politics. Legal and ethical concerns also arise because this is not always for the better. For example…\n",
    "\n",
    "- The internet can be used to spread misinformation that could be harmful to people's health and well-being.[](Bad News - Play the fake news game!https://www.getbadnews.com › books › english)\n",
    "\n",
    "- Algorithms designed to keep people scrolling on social media websites can create echo chambers, contributing to political polarization.\n",
    "\n",
    "- Recently, there's also been debate about the role that internet platforms should play in free speech. How far does and should the principle of free speech go on Social Media platforms? - For more information about the First Amendment right to freedom of expression, go here: The 1st Amendment  Note that the First Amendment does not apply to private businesses, which most Social Media platforms are.\n",
    "\n",
    "- AI Art can be produced much faster and cheaper than traditional art but brings with it a whole slew of ethical questions about art theft, therights of artists, and biased data sources.\n",
    "\n",
    "Can you think of any other examples besides the ones mentioned here? "
   ]
  },
  {
   "cell_type": "markdown",
   "metadata": {},
   "source": [
    "\n",
    "\n",
    "## Homework Hack: Choosing a License for Your Personal Repo\n",
    "\n",
    "### Task 1: Define Your Project\n",
    "- Describe your project in 2-3 sentences.\n",
    "- List key features or goals.\n",
    "\n",
    "### Task 2: Select a License\n",
    "- Choose a suitable license for your project:\n",
    "  - **MIT License** (permissive, minimal restrictions)\n",
    "  - **GPL License** (enforces openness for modified versions)\n",
    "  - **Creative Commons License** (best for creative content)\n",
    "  - **Apache License** (A permissive license whose main conditions require preservation of copyright and license notices. )\n",
    "\n",
    "### Task 3: Explain Your Choice\n",
    "- Write 3-5 sentences justifying why you selected that license.\n",
    "- Explain how this license benefits your project and its users.\n",
    "\n",
    "### Task 4: Add the License to Your Repository\n",
    "- Create a `LICENSE` file in your project.\n",
    "- Include the full license text with relevant details (e.g., your name and year).\n",
    "\n",
    "\n",
    "\n",
    "\n",
    "\n"
   ]
  }
 ],
 "metadata": {
  "language_info": {
   "name": "python"
  }
 },
 "nbformat": 4,
 "nbformat_minor": 2
}
