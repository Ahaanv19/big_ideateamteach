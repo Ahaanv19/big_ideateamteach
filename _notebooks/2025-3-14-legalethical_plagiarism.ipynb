{
 "cells": [
  {
   "cell_type": "raw",
   "metadata": {
    "vscode": {
     "languageId": "raw"
    }
   },
   "source": [
    "---\n",
    "layout: post\n",
    "title: Big Idea 5 Legal and Ethical Concerns Lesson 3\n",
    "description: Lesson 3\n",
    "permalink: /5.5.3/\n",
    "toc: false\n",
    "comments: true\n",
    "author: Ahaan Vaidyanathan\n",
    "---"
   ]
  },
  {
   "cell_type": "markdown",
   "metadata": {},
   "source": [
    "# Plagiarism"
   ]
  },
  {
   "cell_type": "markdown",
   "metadata": {},
   "source": [
    "\n",
    "Plagiarism is when you take the content of someone else and claim it as your own. The most common type of plagiarism students hear about is the plagiarism of written ideas and/or phrases. It's possible to accidentally plagiarise by simply forgetting to cite the original source of an idea or phrase. \n",
    "\n",
    "Plagiarism can have serious consequences, especially in the world of academia. It can get students expelled and see the careers of professors destroyed. Furthermore, there could be legal consequences as well. \n",
    "\n",
    "It's not difficult in the age of image searches and Turnitin.com to be caught plagiarising or violating copyright. It can also be incredibly disheartening for content creators to see their hard work taken without permission or credit.\n",
    "\n",
    "\n",
    "\n"
   ]
  },
  {
   "cell_type": "markdown",
   "metadata": {},
   "source": [
    "# What is Plagiarism in Computer Science?"
   ]
  },
  {
   "cell_type": "markdown",
   "metadata": {},
   "source": [
    "Plagiarism in computing refers to the unauthorized use of someone else’s code, algorithms, or ideas without proper attribution. Unlike written plagiarism, which involves copying text, coding plagiarism can be less obvious but just as problematic.\n"
   ]
  },
  {
   "cell_type": "markdown",
   "metadata": {},
   "source": [
    "# Common forms of plagiarism in programming include:"
   ]
  },
  {
   "cell_type": "markdown",
   "metadata": {},
   "source": [
    "\n",
    "- Copying code verbatim from online sources, classmates, or past assignments.\n",
    "- Modifying code slightly (changing variable names or comments) while keeping the structure the same.\n",
    "Using AI-generated or purchased code without acknowledging its source.\n",
    "Unauthorized collaboration, where students work together when they are supposed to work independently."
   ]
  },
  {
   "cell_type": "markdown",
   "metadata": {},
   "source": [
    "# Copying code verbatim from online sources, classmates, or past assignments."
   ]
  },
  {
   "cell_type": "markdown",
   "metadata": {},
   "source": [
    "\n",
    "- Modifying code slightly (changing variable names or comments) while keeping the structure the same.\n",
    "- Using AI-generated or purchased code without acknowledging its source.\n",
    "- Unauthorized collaboration, where students work together when they are supposed to work independently."
   ]
  },
  {
   "cell_type": "markdown",
   "metadata": {},
   "source": [
    "# Why is Plagiarism a Legal and Ethical Concern?"
   ]
  },
  {
   "cell_type": "markdown",
   "metadata": {},
   "source": [
    "\n",
    "\n",
    "\n",
    "\n",
    "# Legal Issues\n",
    "Plagiarism can violate copyright laws, especially if the copied code is from proprietary software, open-source projects with licensing requirements, or published academic work. Many programming languages and frameworks have clear guidelines on how code should be credited and reused.\n",
    "\n",
    "Real-world examples of legal consequences include:\n",
    "\n",
    "- Companies facing lawsuits for using unauthorized code. \n",
    "- Developers losing credibility or jobs due to plagiarism.\n",
    "- Academic penalties for students caught copying code in coursework.\n",
    "\n",
    "# Ethical Issues\n",
    "From an ethical perspective, plagiarism:\n",
    "\n",
    "- Disrespects the original creator’s work by failing to acknowledge their effort.\n",
    "- Gives an unfair advantage to those who cheat over students who put in honest work.\n",
    "- Hinders learning, as students do not develop critical problem-solving skills when they rely on copied solutions.\n",
    "## AP CSP Policies on Plagiarism\n",
    "The College Board strictly prohibits plagiarism in AP CSP coursework, particularly in the Create Performance Task.\n",
    "\n",
    "- Students must acknowledge any external code used (e.g., citing sources in program comments).\n",
    "- Any instance of unattributed copied code can result in a score of zero on the exam.\n",
    "- The AP Digital Portfolio checks for plagiarism, and flagged cases can lead to academic penalties."
   ]
  }
 ],
 "metadata": {
  "language_info": {
   "name": "python"
  }
 },
 "nbformat": 4,
 "nbformat_minor": 2
}
