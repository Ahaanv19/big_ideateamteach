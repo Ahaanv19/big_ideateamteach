{
 "cells": [
  {
   "cell_type": "raw",
   "metadata": {
    "vscode": {
     "languageId": "raw"
    }
   },
   "source": [
    "---\n",
    "layout: post\n",
    "title: Big Idea 5 Legal and Ethical Concerns Work Cited \n",
    "description: Work Cited\n",
    "permalink: /5.5.6/\n",
    "toc: false\n",
    "comments: true\n",
    "author: Ahaan Vaidyanathan, Arnav Mittal, Weston Gardener \n",
    "---"
   ]
  },
  {
   "cell_type": "markdown",
   "metadata": {},
   "source": [
    "# Work Cited "
   ]
  },
  {
   "cell_type": "markdown",
   "metadata": {},
   "source": [
    "https://library.fiveable.me/ap-comp-sci-p/unit-5/legal-ethical-concerns/study-guide/dAf2KQxLsqwN3aEvajq0"
   ]
  }
 ],
 "metadata": {
  "language_info": {
   "name": "python"
  }
 },
 "nbformat": 4,
 "nbformat_minor": 2
}
