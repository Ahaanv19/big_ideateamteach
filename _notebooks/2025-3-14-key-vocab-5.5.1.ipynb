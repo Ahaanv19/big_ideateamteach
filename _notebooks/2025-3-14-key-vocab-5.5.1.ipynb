{
 "cells": [
  {
   "cell_type": "raw",
   "metadata": {
    "vscode": {
     "languageId": "raw"
    }
   },
   "source": [
    "---\n",
    "layout: post\n",
    "title: Key Vocabulary\n",
    "description: Lesson 1\n",
    "permalink: /5.5.1/\n",
    "toc: false\n",
    "comments: true\n",
    "author: Weston Gardner\n",
    "---"
   ]
  },
  {
   "cell_type": "markdown",
   "metadata": {},
   "source": [
    "## Before we begin viewing the lessons, let's go over some key vocab. After today's lesson, you can use our flashcards to study these terms. "
   ]
  },
  {
   "cell_type": "markdown",
   "metadata": {},
   "source": [
    "## 1: AI Art\n",
    "AI Art is a form of artistic expression created with artificial intelligence technology. It involves using algorithms and machine learning techniques to generate visual or auditory artworks that mimic human creativity.\n",
    "\n",
    "## 2: Creative Commons\n",
    "Creative Commons is a licensing system that allows creators to share their work with specific permissions for others to use, remix, or distribute it. It provides a way for creators to grant certain rights while still retaining some control over their work.\n",
    "\n",
    "## 3: Digital Divide\n",
    "The digital divide refers to the gap between individuals or communities who have access to and can effectively use digital technologies, such as computers and the internet, and those who do not.\n",
    "\n",
    "## 4: Echo Chambers\n",
    "Echo chambers refer to online environments or social circles where individuals are exposed only to ideas, opinions, and perspectives that align with their own beliefs, reinforcing their existing views and limiting exposure to diverse viewpoints.\n",
    "\n",
    "## 5: Fair Use\n",
    "Fair use is a legal doctrine that allows limited use of copyrighted material without permission from the copyright owner. It provides exceptions to copyright law for purposes such as criticism, comment, news reporting, teaching, scholarship, and research.\n",
    "\n",
    "## 6: First Amendment\n",
    "The First Amendment refers to the part of the United States Constitution that guarantees the freedom of speech, religion, press, assembly, and petition. It protects individuals' rights to express themselves and their opinions without government interference.\n",
    "\n",
    "## 7: Intellectual Property\n",
    "Intellectual property refers to creations of the mind, such as inventions, artistic works, designs, symbols, and names that are protected by law.\n",
    "\n",
    "## 8: Misinformation\n",
    "Misinformation refers to false or inaccurate information that is spread unintentionally or deliberately, often through various media channels.\n",
    "\n",
    "## 9: Moral Rights\n",
    "Moral rights refer to the legal rights that creators have over their work, which include the right to be recognized as the author and the right to protect the integrity of their work.\n",
    "\n",
    "## 10: Open Sourcing\n",
    "Open sourcing refers to making source code available to the public so that anyone can view, modify, or distribute it. It promotes collaboration and transparency in software development.\n",
    "\n",
    "## 11: Open Access\n",
    "Open access refers to unrestricted online access to scholarly research articles. It allows anyone with internet access to read, download, copy, distribute, print, or use the articles for any lawful purpose without financial, legal, or technical barriers.\n",
    "\n",
    "## 12: Plagirism\n",
    "Plagiarism is the act of using someone else's words, ideas, or creations without giving them proper credit. It involves presenting someone else's work as your own.\n",
    "\n",
    "\n",
    "## [Link to flascards]({{site.baseurl}}/flashcards/)\n",
    "\n",
    "# Hacks\n",
    "Use the flashcards to memorize all of the key terms and their definitions."
   ]
  },
  {
   "cell_type": "markdown",
   "metadata": {},
   "source": [
    "# LICENSES\n",
    "\n",
    "- Below are some important licenses you should be aware off in computer science\n",
    "\n",
    "## DIFFERENT LICENSES: \n",
    "- MIT License – Allows anyone to use, modify, and distribute your code with attribution.\n",
    "- Apache 2.0 – Similar to MIT but also provides an explicit grant of patent rights.\n",
    "- GPL (General Public License) – Requires anyone who modifies and distributes your code to open-source their modifications.\n",
    "- BSD Licenses – Less restrictive, but still requires attribution.\n",
    "- Creative Commons (CC) – Typically used for non-software content."
   ]
  },
  {
   "cell_type": "markdown",
   "metadata": {},
   "source": [
    "> <a href=\"{{site.baseurl}}/5.5.2/\">Next</a>"
   ]
  }
 ],
 "metadata": {
  "kernelspec": {
   "display_name": ".venv",
   "language": "python",
   "name": "python3"
  },
  "language_info": {
   "codemirror_mode": {
    "name": "ipython",
    "version": 3
   },
   "file_extension": ".py",
   "mimetype": "text/x-python",
   "name": "python",
   "nbconvert_exporter": "python",
   "pygments_lexer": "ipython3",
   "version": "3.12.3"
  }
 },
 "nbformat": 4,
 "nbformat_minor": 2
}
